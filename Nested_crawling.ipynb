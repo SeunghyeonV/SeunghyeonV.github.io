{
 "cells": [
  {
   "cell_type": "code",
   "execution_count": null,
   "id": "51ffe995",
   "metadata": {},
   "outputs": [],
   "source": [
    "# https://seunghyeonv.github.io/\n",
    "'''\n",
    "\n",
    "<head>\n",
    "<meta charset=\"utf-8\" />\n",
    "</head>\n",
    "<body>\n",
    "<h1>A Sample website for web crawling practice.</h1>\n",
    "\n",
    "<h3>Python is fun!</h3>\n",
    "<ul id=\"ul_1\">\n",
    "    <li class=\"c_1\" id='id_1'>(Lipsum) - Lorem ipsum dolor sit amet, consectetur adipiscing elit, sed do eiusmod tempor incididunt ut labore [3]</li>\n",
    "    <li class=\"c_1\" id='id_1'>et dolore magna aliqua. Ut enim ad minim veniam, quis nostrud exercitation ullamco laboris nisi [12]</li>\n",
    "    <li class=\"c_1\" id='id_1'>ut aliquip ex ea commodo consequat. Duis aute irure dolor in reprehenderit in voluptate velit esse cillum dolore eu fugiat nulla pariatur. [7]</li>\n",
    "    <li class=\"c_1\" id='id_1'>Excepteur sint occaecat cupidatat non proident, sunt in culpa qui officia deserunt mollit anim id est laborum.\"</li>\n",
    "</ul>\n",
    "\n",
    "<h3>BeautifulSoup is great!</h3>\n",
    "<ul id=\"ul_2\">\n",
    "    <li class=\"c_1\" id='id_2'>(Lipsum) - Sed ut perspiciatis unde omnis iste natus error sit voluptatem accusantium doloremque laudantium, [1]</li>\n",
    "    <li class=\"c_1\" id='id_2'>totam rem aperiam, eaque ipsa quae ab illo inventore veritatis et quasi architecto beatae vitae dicta sunt explicabo. [9]</li>\n",
    "    <li class=\"c_1\" id='id_2'>Nemo enim ipsam voluptatem quia voluptas sit aspernatur aut odit aut fugit, sed quia consequuntur magni dolores</li>\n",
    "    <li class=\"c_1\" id='id_2'>eos qui ratione voluptatem sequi nesciunt. Neque porro quisquam est, qui dolorem ipsum quia dolor</li>\n",
    "</ul>\n",
    "</body>\n",
    "</html>\n",
    "\n",
    "\n",
    "\n",
    "'''"
   ]
  },
  {
   "cell_type": "code",
   "execution_count": 56,
   "id": "d7724d74",
   "metadata": {},
   "outputs": [],
   "source": [
    "import requests\n",
    "from bs4 import BeautifulSoup"
   ]
  },
  {
   "cell_type": "code",
   "execution_count": 57,
   "id": "9d9f27dd",
   "metadata": {},
   "outputs": [],
   "source": [
    "# How to parse li values inside ol or ul\n",
    "res = requests.get(\"https://www.w3schools.com/tags/tryit.asp?filename=tryhtml_list_test\")\n",
    "soup = BeautifulSoup(res.content, 'html.parser')"
   ]
  },
  {
   "cell_type": "code",
   "execution_count": 58,
   "id": "a1cb0055",
   "metadata": {},
   "outputs": [
    {
     "name": "stdout",
     "output_type": "stream",
     "text": [
      "Coffee\n",
      "Tea\n",
      "Milk\n"
     ]
    }
   ],
   "source": [
    "section = soup.find('ol')\n",
    "lists = section.find_all('li')\n",
    "for li in lists:\n",
    "    print(li.get_text())"
   ]
  },
  {
   "cell_type": "code",
   "execution_count": 59,
   "id": "6a95d98a",
   "metadata": {},
   "outputs": [],
   "source": [
    "res = requests.get(\"https://seunghyeonv.github.io/\")\n",
    "soup = BeautifulSoup(res.content, 'html.parser')"
   ]
  },
  {
   "cell_type": "code",
   "execution_count": 60,
   "id": "f1c5f1d1",
   "metadata": {},
   "outputs": [],
   "source": [
    "section = soup.find_all('li')"
   ]
  },
  {
   "cell_type": "code",
   "execution_count": 61,
   "id": "ec3c859d",
   "metadata": {},
   "outputs": [
    {
     "name": "stdout",
     "output_type": "stream",
     "text": [
      "(Lipsum) - Lorem ipsum dolor sit amet, consectetur adipiscing elit, sed do eiusmod tempor incididunt ut labore [3]\n",
      "et dolore magna aliqua. Ut enim ad minim veniam, quis nostrud exercitation ullamco laboris nisi [12]\n",
      "ut aliquip ex ea commodo consequat. Duis aute irure dolor in reprehenderit in voluptate velit esse cillum dolore eu fugiat nulla pariatur. [7]\n",
      "Excepteur sint occaecat cupidatat non proident, sunt in culpa qui officia deserunt mollit anim id est laborum.\"\n",
      "(Lipsum) - Sed ut perspiciatis unde omnis iste natus error sit voluptatem accusantium doloremque laudantium, [1]\n",
      "totam rem aperiam, eaque ipsa quae ab illo inventore veritatis et quasi architecto beatae vitae dicta sunt explicabo. [9]\n",
      "Nemo enim ipsam voluptatem quia voluptas sit aspernatur aut odit aut fugit, sed quia consequuntur magni dolores\n",
      "eos qui ratione voluptatem sequi nesciunt. Neque porro quisquam est, qui dolorem ipsum quia dolor\n"
     ]
    }
   ],
   "source": [
    "# Total lists\n",
    "for item in section:\n",
    "    print(item.get_text())"
   ]
  },
  {
   "cell_type": "code",
   "execution_count": 62,
   "id": "361c681b",
   "metadata": {},
   "outputs": [],
   "source": [
    "# select a ul\n",
    "section = soup.find('ul', id='ul_1')"
   ]
  },
  {
   "cell_type": "code",
   "execution_count": 63,
   "id": "b8a3d12c",
   "metadata": {},
   "outputs": [],
   "source": [
    "# search li from the chosen ul\n",
    "lists = section.find_all('li', class_='c_1')"
   ]
  },
  {
   "cell_type": "code",
   "execution_count": 64,
   "id": "2b271bfc",
   "metadata": {},
   "outputs": [
    {
     "name": "stdout",
     "output_type": "stream",
     "text": [
      "(Lipsum) - Lorem ipsum dolor sit amet, consectetur adipiscing elit, sed do eiusmod tempor incididunt ut labore [3]\n",
      "et dolore magna aliqua. Ut enim ad minim veniam, quis nostrud exercitation ullamco laboris nisi [12]\n",
      "ut aliquip ex ea commodo consequat. Duis aute irure dolor in reprehenderit in voluptate velit esse cillum dolore eu fugiat nulla pariatur. [7]\n",
      "Excepteur sint occaecat cupidatat non proident, sunt in culpa qui officia deserunt mollit anim id est laborum.\"\n"
     ]
    }
   ],
   "source": [
    "for list in lists:\n",
    "    print(list.get_text())"
   ]
  },
  {
   "cell_type": "code",
   "execution_count": 65,
   "id": "ecd61490",
   "metadata": {},
   "outputs": [],
   "source": [
    "section = soup.find('ul', id='ul_2')"
   ]
  },
  {
   "cell_type": "code",
   "execution_count": 66,
   "id": "7fadc935",
   "metadata": {},
   "outputs": [],
   "source": [
    "titles = section.find_all('li', class_='c_1')"
   ]
  },
  {
   "cell_type": "code",
   "execution_count": 67,
   "id": "0cf45533",
   "metadata": {
    "scrolled": true
   },
   "outputs": [
    {
     "name": "stdout",
     "output_type": "stream",
     "text": [
      "(Lipsum) - Sed ut perspiciatis unde omnis iste natus error sit voluptatem accusantium doloremque laudantium, [1]\n",
      "totam rem aperiam, eaque ipsa quae ab illo inventore veritatis et quasi architecto beatae vitae dicta sunt explicabo. [9]\n",
      "Nemo enim ipsam voluptatem quia voluptas sit aspernatur aut odit aut fugit, sed quia consequuntur magni dolores\n",
      "eos qui ratione voluptatem sequi nesciunt. Neque porro quisquam est, qui dolorem ipsum quia dolor\n"
     ]
    }
   ],
   "source": [
    "for title in titles:\n",
    "    print(title.get_text())"
   ]
  },
  {
   "cell_type": "code",
   "execution_count": 71,
   "id": "52b8eb12",
   "metadata": {},
   "outputs": [
    {
     "name": "stdout",
     "output_type": "stream",
     "text": [
      "(Lipsum) - Sed ut perspiciatis unde omnis iste natus error sit voluptatem accusantium doloremque laudantium, \n",
      "totam rem aperiam, eaque ipsa quae ab illo inventore veritatis et quasi architecto beatae vitae dicta sunt explicabo. \n",
      "Nemo enim ipsam voluptatem quia voluptas sit aspernatur aut odit aut fugit, sed quia consequuntur magni dolores\n",
      "eos qui ratione voluptatem sequi nesciunt. Neque porro quisquam est, qui dolorem ipsum quia dolor\n"
     ]
    }
   ],
   "source": [
    "# parse without []\n",
    "for title in titles:\n",
    "    print(title.get_text().split('[')[0]) # reutrn values prior to []"
   ]
  },
  {
   "cell_type": "code",
   "execution_count": 110,
   "id": "e6f8e1c4",
   "metadata": {},
   "outputs": [
    {
     "name": "stdout",
     "output_type": "stream",
     "text": [
      "(Lipsum) \n",
      "et dolore magna aliqua. Ut enim ad minim veniam, quis nostrud exercitation ullamco laboris nisi \n",
      "ut aliquip ex ea commodo consequat. Duis aute irure dolor in reprehenderit in voluptate velit esse cillum dolore eu fugiat nulla pariatur. \n",
      "Excepteur sint occaecat cupidatat non proident, sunt in culpa qui officia deserunt mollit anim id est laborum.\"\n"
     ]
    }
   ],
   "source": [
    "# parse without '-'\n",
    "titles = soup.find_all(class_='c_1', id=\"id_1\")\n",
    "for title in titles:\n",
    "    print(title.get_text().split('[')[0].split('-')[0])"
   ]
  },
  {
   "cell_type": "code",
   "execution_count": 130,
   "id": "170e6b15",
   "metadata": {},
   "outputs": [
    {
     "name": "stdout",
     "output_type": "stream",
     "text": [
      "(Lipsum) - Sed ut perspiciatis unde omnis iste natus error sit voluptatem accusantium doloremque laudantium, [1]\n",
      "totam rem aperiam, eaque ipsa quae ab illo inventore veritatis et quasi architecto beatae vitae dicta sunt explicabo. [9]\n",
      "Nemo enim ipsam voluptatem quia voluptas sit aspernatur aut odit aut fugit, sed quia consequuntur magni dolores\n",
      "eos qui ratione voluptatem sequi nesciunt. Neque porro quisquam est, qui dolorem ipsum quia dolor\n"
     ]
    }
   ],
   "source": [
    "# parse without empty spaces from ul_2\n",
    "section = soup.find(id=\"ul_2\")\n",
    "titles = section.find_all(class_=\"c_1\")\n",
    "for title in titles:\n",
    "    print(title.get_text().strip(''))"
   ]
  },
  {
   "cell_type": "code",
   "execution_count": 129,
   "id": "822bb81e",
   "metadata": {
    "scrolled": true
   },
   "outputs": [
    {
     "name": "stdout",
     "output_type": "stream",
     "text": [
      "1. (Lipsum)\n",
      "2. totam rem aperiam, eaque ipsa quae ab illo inventore veritatis et quasi architecto beatae vitae dicta sunt explicabo.\n",
      "3. Nemo enim ipsam voluptatem quia voluptas sit aspernatur aut odit aut fugit, sed quia consequuntur magni dolores\n",
      "4. eos qui ratione voluptatem sequi nesciunt. Neque porro quisquam est, qui dolorem ipsum quia dolor\n"
     ]
    }
   ],
   "source": [
    "# Python enumerate\n",
    "for index, title in enumerate(titles):\n",
    "    print(str(index+1) + '.', title.get_text().split('[')[0].split('-')[0].strip())"
   ]
  },
  {
   "cell_type": "code",
   "execution_count": null,
   "id": "6d4de461",
   "metadata": {},
   "outputs": [],
   "source": []
  }
 ],
 "metadata": {
  "kernelspec": {
   "display_name": "Python 3 (ipykernel)",
   "language": "python",
   "name": "python3"
  },
  "language_info": {
   "codemirror_mode": {
    "name": "ipython",
    "version": 3
   },
   "file_extension": ".py",
   "mimetype": "text/x-python",
   "name": "python",
   "nbconvert_exporter": "python",
   "pygments_lexer": "ipython3",
   "version": "3.9.13"
  }
 },
 "nbformat": 4,
 "nbformat_minor": 5
}
