{
 "cells": [
  {
   "cell_type": "code",
   "execution_count": 1,
   "id": "57f15282",
   "metadata": {},
   "outputs": [],
   "source": [
    "import requests\n",
    "from bs4 import BeautifulSoup"
   ]
  },
  {
   "cell_type": "code",
   "execution_count": 5,
   "id": "3568db27",
   "metadata": {},
   "outputs": [],
   "source": [
    "res = requests.get(\"https://www.npr.org/2022/09/03/1120007415/goodnight-moon-has-comforted-kids-at-bedtime-for-75-years\")\n",
    "soup = BeautifulSoup(res.content, 'html.parser')"
   ]
  },
  {
   "cell_type": "code",
   "execution_count": 8,
   "id": "a2ebcdec",
   "metadata": {},
   "outputs": [],
   "source": [
    "title = soup.find('div', class_='storytitle')\n",
    "title.get_text()"
   ]
  },
  {
   "cell_type": "code",
   "execution_count": 13,
   "id": "2ca74c14",
   "metadata": {
    "scrolled": false
   },
   "outputs": [
    {
     "data": {
      "text/plain": [
       "'\\n\\nSeptember 3, 20225:00 AM ET\\n\\n'"
      ]
     },
     "execution_count": 13,
     "metadata": {},
     "output_type": "execute_result"
    }
   ],
   "source": [
    "date = soup.find('div', class_='dateblock')\n",
    "date.get_text()"
   ]
  },
  {
   "cell_type": "code",
   "execution_count": null,
   "id": "e43a0013",
   "metadata": {},
   "outputs": [],
   "source": [
    "contents = soup.find_all('p')\n",
    "for item in contents:\n",
    "    print(item.get_text())"
   ]
  },
  {
   "cell_type": "code",
   "execution_count": null,
   "id": "5a4ada7a",
   "metadata": {},
   "outputs": [],
   "source": [
    "# CSS Crawling Summary\n",
    "\n",
    "# data = soup.find('h3', 'tit_view')\n",
    "# data = soup.find('span', 'txt_info')\n",
    "# data = soup.find_all('span', 'txt_info')\n",
    "# for item in data:\n",
    "#     print(item.get_text())\n",
    "# data = soup.find_all('span', 'txt_info')\n",
    "# print(data[1].get_text())\n",
    "# data = soup.find('div', 'layer_body')\n",
    "# print(data.get_text())"
   ]
  }
 ],
 "metadata": {
  "kernelspec": {
   "display_name": "Python 3 (ipykernel)",
   "language": "python",
   "name": "python3"
  },
  "language_info": {
   "codemirror_mode": {
    "name": "ipython",
    "version": 3
   },
   "file_extension": ".py",
   "mimetype": "text/x-python",
   "name": "python",
   "nbconvert_exporter": "python",
   "pygments_lexer": "ipython3",
   "version": "3.9.13"
  }
 },
 "nbformat": 4,
 "nbformat_minor": 5
}
