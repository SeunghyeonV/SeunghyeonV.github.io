{
 "cells": [
  {
   "cell_type": "code",
   "execution_count": 9,
   "id": "cdd047b4",
   "metadata": {},
   "outputs": [],
   "source": [
    "import openpyxl"
   ]
  },
  {
   "cell_type": "code",
   "execution_count": 11,
   "id": "40c4b182",
   "metadata": {},
   "outputs": [],
   "source": [
    "excel_file = openpyxl.Workbook()\n",
    "excel_sheet = excel_file.active # seelct the first sheet\n",
    "excel_sheet.title = 'first_sheet' # define sheet name (Optional)"
   ]
  },
  {
   "cell_type": "code",
   "execution_count": 12,
   "id": "6db43ee3",
   "metadata": {},
   "outputs": [],
   "source": [
    "excel_sheet.append(['data1', 'data2', 'data3'])"
   ]
  },
  {
   "cell_type": "code",
   "execution_count": 13,
   "id": "72952fbc",
   "metadata": {},
   "outputs": [],
   "source": [
    "excel_file.save('crawling_result.xlsx')"
   ]
  },
  {
   "cell_type": "code",
   "execution_count": 14,
   "id": "67c85544",
   "metadata": {},
   "outputs": [],
   "source": [
    "excel_file.close()"
   ]
  },
  {
   "cell_type": "code",
   "execution_count": 15,
   "id": "293a5eec",
   "metadata": {},
   "outputs": [],
   "source": [
    "def write_excel_template(filename, sheetname, listdata):\n",
    "    excel_file = openpyxl.Workbook()\n",
    "    excel_sheet = excel_file.active\n",
    "    excel_sheet.column_dimensions['A'].width = 100\n",
    "    excel_sheet.column_dimensions['B'].width = 20\n",
    "    \n",
    "    if sheetname != '':\n",
    "        excel_sheet.title = sheetname\n",
    "        \n",
    "    for item in listdata:\n",
    "        excel_sheet.append(item)\n",
    "    excel_file.save(filename)\n",
    "    excel_file.close()"
   ]
  },
  {
   "cell_type": "code",
   "execution_count": 29,
   "id": "ef3e4f81",
   "metadata": {},
   "outputs": [],
   "source": [
    "import requests\n",
    "from bs4 import BeautifulSoup\n",
    "\n",
    "product_lists = list()\n",
    "\n",
    "for page_num in range(2):\n",
    "    if page_num == 0:\n",
    "        res = requests.get('https://davelee-fun.github.io/')\n",
    "    \n",
    "    else:\n",
    "        res = requests.get('https://davelee-fun.github.io/page' + str(page_num + 1))\n",
    "    soup = BeautifulSoup(res.content, 'html.parser')\n",
    "    \n",
    "    data = soup.select('div.card')\n",
    "    for item in data:\n",
    "        product_name = item.select_one('div.card-body h4.card-text') # parse product name\n",
    "        product_date = item.select_one('div.wrapfooter span.post-date') # parse product date\n",
    "        product_info = [product_name.get_text().strip(), product_date.get_text()] # save the name and date in the list\n",
    "        product_lists.append(product_info) # append the created list into product list [[],[],[]]"
   ]
  },
  {
   "cell_type": "code",
   "execution_count": 30,
   "id": "05ff2054",
   "metadata": {},
   "outputs": [],
   "source": [
    "write_excel_template('crawling_result.xlsx', 'Product info', product_lists)"
   ]
  },
  {
   "cell_type": "code",
   "execution_count": 31,
   "id": "4faa40a6",
   "metadata": {},
   "outputs": [],
   "source": [
    "# how to read the saved excel file\n",
    "excel_file = openpyxl.load_workbook('crawling_result.xlsx') # laod file\n",
    "excel_file.sheetnames # check sheet name lists\n",
    "excel_sheet = excel_file['Product info'] # read data in the sheet"
   ]
  },
  {
   "cell_type": "code",
   "execution_count": 32,
   "id": "8436a5f9",
   "metadata": {},
   "outputs": [
    {
     "name": "stdout",
     "output_type": "stream",
     "text": [
      "상품명: 보몽드 순면스퀘어 솔리드 누빔매트커버, 다크블루 05 Jun 2020\n",
      "상품명: 슈에뜨룸 선인장 리플 침구 세트, 베이지 05 Jun 2020\n",
      "상품명: 선우랜드 레인보우 2단 문걸이용 옷걸이 _중형, 화이트, 상세페이지참조 05 Jun 2020\n",
      "상품명: 보드래 헬로우 누빔 매트리스커버, 핑크 05 Jun 2020\n",
      "상품명: 보드래 퍼펙트 누빔 매트리스커버, 차콜 05 Jun 2020\n",
      "상품명: 피아블 클래식 방수 매트리스커버, 화이트 05 Jun 2020\n",
      "상품명: 더자리 에코항균 마이크로 매트리스커버, 밀키차콜그레이 05 Jun 2020\n",
      "상품명: 더자리 프레쉬 퓨어 매트리스 커버, 퓨어 차콜그레이 05 Jun 2020\n",
      "상품명: 몽쉐어 알러스킨 항균 매트리스 커버, 카키그레이 05 Jun 2020\n",
      "상품명: 쿠팡 브랜드 - 코멧 홈 40수 트윌 순면 100% 홑겹 매트리스커버, 그레이 05 Jun 2020\n",
      "상품명: 패브릭아트 항균 마이크로 원단 매트리스 커버, 아이보리 05 Jun 2020\n",
      "상품명: 바숨 순면 누빔 침대 매트리스커버, 차콜 05 Jun 2020\n",
      "상품명: WEMAX 다용도 문옷걸이, 화이트, 1개 05 Jun 2020\n",
      "상품명: 타카타카 프리미엄 나노 화이바 누빔 매트리스 커버, 젠틀핑핑 05 Jun 2020\n",
      "상품명: 보몽드 순면스퀘어 누빔매트커버, 다크그레이 05 Jun 2020\n",
      "상품명: 보드래 국내산 순면 60수 누빔 매트리스커버, 그레이 05 Jun 2020\n",
      "상품명: 보드래 퍼펙트 누빔 매트리스커버, 베이지핑크 05 Jun 2020\n",
      "상품명: 쿠팡 브랜드 - 코멧 홈 40수 순면 누빔 매트리스커버, 챠콜 05 Jun 2020\n",
      "상품명: 바숨 순면 누빔 침대 매트리스커버, 화이트 05 Jun 2020\n",
      "상품명: 프랑떼 항균 방수 매트리스커버, 화이트 05 Jun 2020\n",
      "상품명: 보몽드 순면스퀘어 솔리드 누빔매트커버, 다크블루 05 Jun 2020\n",
      "상품명: 네이쳐리빙 피아블 클래식 방수 매트리스커버, 그레이 05 Jun 2020\n",
      "상품명: 쿠팡 브랜드 - 코멧 홈 순면 매트리스커버, 베이지 05 Jun 2020\n",
      "상품명: 타카타카 프리미엄 나노 화이바 누빔 매트리스 커버, 프렌치불독 05 Jun 2020\n",
      "상품명: 더자리 에코항균 마이크로 매트리스커버, 밀키그레이 05 Jun 2020\n",
      "상품명: 보몽드 순면스퀘어 누빔매트커버, 화이트 05 Jun 2020\n",
      "상품명: 피아블 클래식 방수 매트리스커버, 화이트 05 Jun 2020\n",
      "상품명: 쿠팡 브랜드 - 코멧 홈 순면 매트리스커버, 차콜그레이 05 Jun 2020\n"
     ]
    }
   ],
   "source": [
    "for item in excel_sheet.rows:\n",
    "    print(item[0].value, item[1].value)"
   ]
  },
  {
   "cell_type": "code",
   "execution_count": 33,
   "id": "6be2ea7c",
   "metadata": {},
   "outputs": [],
   "source": [
    "excel_file.close()"
   ]
  },
  {
   "cell_type": "code",
   "execution_count": null,
   "id": "5fca485a",
   "metadata": {},
   "outputs": [],
   "source": []
  }
 ],
 "metadata": {
  "kernelspec": {
   "display_name": "Python 3 (ipykernel)",
   "language": "python",
   "name": "python3"
  },
  "language_info": {
   "codemirror_mode": {
    "name": "ipython",
    "version": 3
   },
   "file_extension": ".py",
   "mimetype": "text/x-python",
   "name": "python",
   "nbconvert_exporter": "python",
   "pygments_lexer": "ipython3",
   "version": "3.9.13"
  }
 },
 "nbformat": 4,
 "nbformat_minor": 5
}
