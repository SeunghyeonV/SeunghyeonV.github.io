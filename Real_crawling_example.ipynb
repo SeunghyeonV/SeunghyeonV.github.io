{
 "cells": [
  {
   "cell_type": "code",
   "execution_count": 1,
   "id": "aa6c140d",
   "metadata": {},
   "outputs": [],
   "source": [
    "import requests\n",
    "from bs4 import BeautifulSoup"
   ]
  },
  {
   "cell_type": "code",
   "execution_count": 2,
   "id": "e543be3c",
   "metadata": {},
   "outputs": [],
   "source": [
    "res = requests.get(\"https://davelee-fun.github.io\")\n",
    "soup = BeautifulSoup(res.content, 'html.parser')"
   ]
  },
  {
   "cell_type": "code",
   "execution_count": 3,
   "id": "ecb1b26c",
   "metadata": {
    "collapsed": true
   },
   "outputs": [
    {
     "name": "stdout",
     "output_type": "stream",
     "text": [
      "Teddy의 선물 블로그\n"
     ]
    }
   ],
   "source": [
    "title = soup.find('h1', 'sitetitle')\n",
    "print(title.get_text())"
   ]
  },
  {
   "cell_type": "code",
   "execution_count": 10,
   "id": "3fce90cc",
   "metadata": {
    "collapsed": true
   },
   "outputs": [
    {
     "name": "stdout",
     "output_type": "stream",
     "text": [
      "Teddy의 선물 블로그\n"
     ]
    }
   ],
   "source": [
    "items = soup.select('div.mainheading > h1')\n",
    "for item in items:\n",
    "    print(item.get_text())"
   ]
  },
  {
   "cell_type": "code",
   "execution_count": 12,
   "id": "46b96f0a",
   "metadata": {},
   "outputs": [],
   "source": [
    "items = soup.select('div.mainheading sitetitle')\n",
    "for item in items:\n",
    "    print(item.get_text())"
   ]
  },
  {
   "cell_type": "code",
   "execution_count": 47,
   "id": "42548412",
   "metadata": {
    "collapsed": true
   },
   "outputs": [
    {
     "name": "stdout",
     "output_type": "stream",
     "text": [
      "1. 매트리스커버 관련 상품 추천 상품명: 보몽드 순면스퀘어 솔리드 누빔매트커버, 다크블루\n",
      "2. 여름이불세트 관련 상품 추천 상품명: 슈에뜨룸 선인장 리플 침구 세트, 베이지\n",
      "3. 행거도어 관련 상품 추천 상품명: 선우랜드 레인보우 2단 문걸이용 옷걸이 _중형, 화이트, 상세페이지참조\n",
      "4. 매트리스커버 관련 상품 추천 상품명: 보드래 헬로우 누빔 매트리스커버, 핑크\n",
      "5. 매트리스커버 관련 상품 추천 상품명: 보드래 퍼펙트 누빔 매트리스커버, 차콜\n",
      "6. 매트리스커버 관련 상품 추천 상품명: 피아블 클래식 방수 매트리스커버, 화이트\n",
      "7. 매트리스커버 관련 상품 추천 상품명: 더자리 에코항균 마이크로 매트리스커버, 밀키차콜그레이\n",
      "8. 매트리스커버 관련 상품 추천 상품명: 더자리 프레쉬 퓨어 매트리스 커버, 퓨어 차콜그레이\n",
      "9. 매트리스커버 관련 상품 추천 상품명: 몽쉐어 알러스킨 항균 매트리스 커버, 카키그레이\n",
      "10. 매트리스커버 관련 상품 추천 상품명: 쿠팡 브랜드 - 코멧 홈 40수 트윌 순면 100% 홑겹 매트리스커버, 그레이\n",
      "11. 매트리스커버 관련 상품 추천 상품명: 패브릭아트 항균 마이크로 원단 매트리스 커버, 아이보리\n",
      "12. 매트리스커버 관련 상품 추천 상품명: 바숨 순면 누빔 침대 매트리스커버, 차콜\n",
      "13. 행거도어 관련 상품 추천 상품명: WEMAX 다용도 문옷걸이, 화이트, 1개\n",
      "14. 매트리스커버 관련 상품 추천 상품명: 타카타카 프리미엄 나노 화이바 누빔 매트리스 커버, 젠틀핑핑\n",
      "15. 매트리스커버 관련 상품 추천 상품명: 보몽드 순면스퀘어 누빔매트커버, 다크그레이\n",
      "16. 매트리스커버 관련 상품 추천 상품명: 보드래 국내산 순면 60수 누빔 매트리스커버, 그레이\n"
     ]
    }
   ],
   "source": [
    "titles = soup.select('div.card-body h2')\n",
    "details = soup.select('div.card-body h4.card-text')\n",
    "# for detail in details:\n",
    "#     print(detail.get_text().strip())\n",
    "\n",
    "for index, (title, detail) in enumerate(zip(titles, details)):\n",
    "    print(str(index+1) + '.', title.get_text().strip(), detail.get_text().strip())"
   ]
  },
  {
   "cell_type": "code",
   "execution_count": 71,
   "id": "88440720",
   "metadata": {},
   "outputs": [],
   "source": [
    "for index in range(2, 4):\n",
    "    res = requests.get('https://davelee-fun.github.io/page'+str(index)+'/')\n",
    "    soup = BeautifulSoup(res.content, 'html.parser')"
   ]
  },
  {
   "cell_type": "code",
   "execution_count": 72,
   "id": "32d58347",
   "metadata": {
    "collapsed": true
   },
   "outputs": [
    {
     "name": "stdout",
     "output_type": "stream",
     "text": [
      "상품명: 쉬즈홈 모던그리드 순면 여름이불 베개커버 패드세트, 핑크\n",
      "상품명: 스코홈 빅리플 여름 차렵이불패드 3종 세트, 마린그레이\n",
      "상품명: 아망떼 시어서커 리플 홑이불 패드세트, 웨이크\n",
      "상품명: 마이센스 무더운 여름엔 시어서커 여름이불 패드 베개 이불세트 30종, 시어서커_파스텔그레이\n",
      "상품명: 믹스앤매치 로라 프릴 시어서커 침구세트, 그레이\n",
      "상품명: 에피소드1 샤베트 프릴 시어서커 여름이불패드세트, 그레이\n",
      "상품명: 슈에뜨룸 선인장 리플 침구 세트, 베이지\n",
      "상품명: 아망떼 시어서커 리플 홑이불 패드세트, 허브티\n",
      "상품명: 지베딩 아이스베어 시어서커 여름침구 풀세트, 민트그레이\n",
      "상품명: 쁘리엘르 테스 시어서커 여름이불 패드세트, 그레이\n",
      "상품명: 쉬즈홈 시어서커 홑이불 + 토퍼 + 베개커버 세트, 나나 옐로우\n",
      "상품명: 아망떼 시어서커 리플 퀼팅 이불패드세트, 리엔나\n"
     ]
    }
   ],
   "source": [
    "items = soup.select(\"div.card-body > h4\")\n",
    "for item in items:\n",
    "    print(item.get_text().strip())"
   ]
  },
  {
   "cell_type": "code",
   "execution_count": null,
   "id": "a236f510",
   "metadata": {},
   "outputs": [],
   "source": []
  }
 ],
 "metadata": {
  "kernelspec": {
   "display_name": "Python 3 (ipykernel)",
   "language": "python",
   "name": "python3"
  },
  "language_info": {
   "codemirror_mode": {
    "name": "ipython",
    "version": 3
   },
   "file_extension": ".py",
   "mimetype": "text/x-python",
   "name": "python",
   "nbconvert_exporter": "python",
   "pygments_lexer": "ipython3",
   "version": "3.9.13"
  }
 },
 "nbformat": 4,
 "nbformat_minor": 5
}
