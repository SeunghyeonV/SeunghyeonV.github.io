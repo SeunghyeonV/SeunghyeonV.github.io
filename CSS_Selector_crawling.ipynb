{
 "cells": [
  {
   "cell_type": "code",
   "execution_count": null,
   "id": "021f6471",
   "metadata": {},
   "outputs": [],
   "source": [
    "# https://seunghyeonv.github.io/\n",
    "'''\n",
    "\n",
    "<html lang=\"ko\">\n",
    "<head>\n",
    "<meta charset=\"utf-8\" />\n",
    "</head>\n",
    "<body>\n",
    "<h1>A Sample website for web crawling practice.</h1>\n",
    "\n",
    "<h3>Python is fun!</h3>\n",
    "<ul id=\"ul_1\">\n",
    "    <li class=\"c_1\" id='id_1'>Lorem ipsum dolor sit amet, consectetur adipiscing elit, sed do eiusmod tempor incididunt ut labore</li>\n",
    "    <li class=\"c_1\" id='id_1'>et dolore magna aliqua. Ut enim ad minim veniam, quis nostrud exercitation ullamco laboris nisi</li>\n",
    "    <li class=\"c_1\" id='id_1'>ut aliquip ex ea commodo consequat. Duis aute irure dolor in reprehenderit in voluptate velit esse cillum dolore eu fugiat nulla pariatur.</li>\n",
    "    <li class=\"c_1\" id='id_1'>Excepteur sint occaecat cupidatat non proident, sunt in culpa qui officia deserunt mollit anim id est laborum.\"</li>\n",
    "</ul>\n",
    "\n",
    "<h3>BeautifulSoup is great!</h3>\n",
    "<ul id=\"ul_2\">\n",
    "    <li class=\"c_1\" id='id_2'>Sed ut perspiciatis unde omnis iste natus error sit voluptatem accusantium doloremque laudantium,</li>\n",
    "    <li class=\"c_1\" id='id_2'>totam rem aperiam, eaque ipsa quae ab illo inventore veritatis et quasi architecto beatae vitae dicta sunt explicabo.</li>\n",
    "    <li class=\"c_1\" id='id_2'>Nemo enim ipsam voluptatem quia voluptas sit aspernatur aut odit aut fugit, sed quia consequuntur magni dolores</li>\n",
    "    <li class=\"c_1\" id='id_2'>eos qui ratione voluptatem sequi nesciunt. Neque porro quisquam est, qui dolorem ipsum quia dolor</li>\n",
    "</ul>\n",
    "</body>\n",
    "</html>\n",
    "\n",
    "'''"
   ]
  },
  {
   "cell_type": "code",
   "execution_count": 3,
   "id": "bb0b0716",
   "metadata": {},
   "outputs": [],
   "source": [
    "import requests\n",
    "from bs4 import BeautifulSoup"
   ]
  },
  {
   "cell_type": "code",
   "execution_count": 4,
   "id": "0fe9265a",
   "metadata": {},
   "outputs": [],
   "source": [
    "res = requests.get(\"https://seunghyeonv.github.io/\")\n",
    "soup = BeautifulSoup(res.content, 'html.parser')"
   ]
  },
  {
   "cell_type": "code",
   "execution_count": 13,
   "id": "b9fb51a8",
   "metadata": {},
   "outputs": [
    {
     "name": "stdout",
     "output_type": "stream",
     "text": [
      "Python is fun!\n"
     ]
    }
   ],
   "source": [
    "# h3 value\n",
    "h3 = soup.find('h3')\n",
    "print(h3.get_text())"
   ]
  },
  {
   "cell_type": "code",
   "execution_count": 19,
   "id": "f2afeb57",
   "metadata": {},
   "outputs": [
    {
     "name": "stdout",
     "output_type": "stream",
     "text": [
      "\n",
      "Lorem ipsum dolor sit amet, consectetur adipiscing elit, sed do eiusmod tempor incididunt ut labore\n",
      "et dolore magna aliqua. Ut enim ad minim veniam, quis nostrud exercitation ullamco laboris nisi\n",
      "ut aliquip ex ea commodo consequat. Duis aute irure dolor in reprehenderit in voluptate velit esse cillum dolore eu fugiat nulla pariatur.\n",
      "Excepteur sint occaecat cupidatat non proident, sunt in culpa qui officia deserunt mollit anim id est laborum.\"\n",
      "\n"
     ]
    }
   ],
   "source": [
    "# ul_1 value\n",
    "items = soup.select('#ul_1')\n",
    "for item in items:\n",
    "    print(item.get_text())"
   ]
  },
  {
   "cell_type": "code",
   "execution_count": 22,
   "id": "af79a67a",
   "metadata": {},
   "outputs": [
    {
     "name": "stdout",
     "output_type": "stream",
     "text": [
      "Lorem ipsum dolor sit amet, consectetur adipiscing elit, sed do eiusmod tempor incididunt ut labore\n",
      "et dolore magna aliqua. Ut enim ad minim veniam, quis nostrud exercitation ullamco laboris nisi\n",
      "ut aliquip ex ea commodo consequat. Duis aute irure dolor in reprehenderit in voluptate velit esse cillum dolore eu fugiat nulla pariatur.\n",
      "Excepteur sint occaecat cupidatat non proident, sunt in culpa qui officia deserunt mollit anim id est laborum.\"\n"
     ]
    }
   ],
   "source": [
    "# id_1 values inside ul_1\n",
    "items = soup.select('#ul_1 #id_1')\n",
    "for item in items:\n",
    "    print(item.get_text())"
   ]
  },
  {
   "cell_type": "code",
   "execution_count": 23,
   "id": "0f2415b8",
   "metadata": {},
   "outputs": [
    {
     "name": "stdout",
     "output_type": "stream",
     "text": [
      "Lorem ipsum dolor sit amet, consectetur adipiscing elit, sed do eiusmod tempor incididunt ut labore\n",
      "et dolore magna aliqua. Ut enim ad minim veniam, quis nostrud exercitation ullamco laboris nisi\n",
      "ut aliquip ex ea commodo consequat. Duis aute irure dolor in reprehenderit in voluptate velit esse cillum dolore eu fugiat nulla pariatur.\n",
      "Excepteur sint occaecat cupidatat non proident, sunt in culpa qui officia deserunt mollit anim id est laborum.\"\n"
     ]
    }
   ],
   "source": [
    "# return li values with id='id_1'\n",
    "items = soup.select('#id_1')\n",
    "for item in items:\n",
    "    print(item.get_text())"
   ]
  },
  {
   "cell_type": "code",
   "execution_count": 24,
   "id": "d2c5ab40",
   "metadata": {},
   "outputs": [
    {
     "name": "stdout",
     "output_type": "stream",
     "text": [
      "Lorem ipsum dolor sit amet, consectetur adipiscing elit, sed do eiusmod tempor incididunt ut labore\n",
      "et dolore magna aliqua. Ut enim ad minim veniam, quis nostrud exercitation ullamco laboris nisi\n",
      "ut aliquip ex ea commodo consequat. Duis aute irure dolor in reprehenderit in voluptate velit esse cillum dolore eu fugiat nulla pariatur.\n",
      "Excepteur sint occaecat cupidatat non proident, sunt in culpa qui officia deserunt mollit anim id est laborum.\"\n",
      "Sed ut perspiciatis unde omnis iste natus error sit voluptatem accusantium doloremque laudantium,\n",
      "totam rem aperiam, eaque ipsa quae ab illo inventore veritatis et quasi architecto beatae vitae dicta sunt explicabo.\n",
      "Nemo enim ipsam voluptatem quia voluptas sit aspernatur aut odit aut fugit, sed quia consequuntur magni dolores\n",
      "eos qui ratione voluptatem sequi nesciunt. Neque porro quisquam est, qui dolorem ipsum quia dolor\n"
     ]
    }
   ],
   "source": [
    "# return multiple class\n",
    "items = soup.select('.c_1')\n",
    "for item in items:\n",
    "    print(item.get_text())"
   ]
  },
  {
   "cell_type": "code",
   "execution_count": 26,
   "id": "e2bc8a56",
   "metadata": {},
   "outputs": [
    {
     "name": "stdout",
     "output_type": "stream",
     "text": [
      "Sed ut perspiciatis unde omnis iste natus error sit voluptatem accusantium doloremque laudantium,\n",
      "totam rem aperiam, eaque ipsa quae ab illo inventore veritatis et quasi architecto beatae vitae dicta sunt explicabo.\n",
      "Nemo enim ipsam voluptatem quia voluptas sit aspernatur aut odit aut fugit, sed quia consequuntur magni dolores\n",
      "eos qui ratione voluptatem sequi nesciunt. Neque porro quisquam est, qui dolorem ipsum quia dolor\n"
     ]
    }
   ],
   "source": [
    "# id=ul_2, class=c_1\n",
    "items = soup.select('ul#ul_2 li.c_1')\n",
    "for item in items:\n",
    "    print(item.get_text())"
   ]
  },
  {
   "cell_type": "code",
   "execution_count": 27,
   "id": "1591a97e",
   "metadata": {},
   "outputs": [
    {
     "name": "stdout",
     "output_type": "stream",
     "text": [
      "Lorem ipsum dolor sit amet, consectetur adipiscing elit, sed do eiusmod tempor incididunt ut labore\n",
      "et dolore magna aliqua. Ut enim ad minim veniam, quis nostrud exercitation ullamco laboris nisi\n",
      "ut aliquip ex ea commodo consequat. Duis aute irure dolor in reprehenderit in voluptate velit esse cillum dolore eu fugiat nulla pariatur.\n",
      "Excepteur sint occaecat cupidatat non proident, sunt in culpa qui officia deserunt mollit anim id est laborum.\"\n"
     ]
    }
   ],
   "source": [
    "# li values directly below ul\n",
    "items = soup.select('ul#ul_1 > li.c_1')\n",
    "for item in items:\n",
    "    print(item.get_text())"
   ]
  },
  {
   "cell_type": "code",
   "execution_count": 28,
   "id": "0ee44971",
   "metadata": {},
   "outputs": [
    {
     "name": "stdout",
     "output_type": "stream",
     "text": [
      "Excepteur sint occaecat cupidatat non proident, sunt in culpa qui officia deserunt mollit anim id est laborum.\"\n"
     ]
    }
   ],
   "source": [
    "# CSS select_one: select single element\n",
    "items = soup.select_one('ul#ul_1 > li.c_1')\n",
    "print(item.get_text().split('[')[0])"
   ]
  },
  {
   "cell_type": "code",
   "execution_count": 31,
   "id": "b6c595a1",
   "metadata": {},
   "outputs": [],
   "source": [
    "# new example html\n",
    "html = \"\"\"\n",
    "<html>\n",
    "    <body>\n",
    "        <tr>\n",
    "            <td>Schedule</td>\n",
    "            <td>Curriculum</td>\n",
    "            <td>Difficulty</td>\n",
    "        </tr>\n",
    "        <tr>\n",
    "            <td>5.1 ~ 6.15</td>\n",
    "            <td>Building a blog</td>\n",
    "            <td>Basic</td>\n",
    "        </tr>\n",
    "        <tr>\n",
    "            <td>6.16 ~ 7.31</td>\n",
    "            <td>Python and Data Science</td>\n",
    "            <td>Easy</td>\n",
    "        </tr>\n",
    "    </body>\n",
    "</html>\n",
    "\"\"\""
   ]
  },
  {
   "cell_type": "code",
   "execution_count": 30,
   "id": "ca6c7852",
   "metadata": {},
   "outputs": [
    {
     "name": "stdout",
     "output_type": "stream",
     "text": [
      "\n",
      "Schedule\n",
      "Curriculum\n",
      "Difficulty\n",
      "\n",
      "\n",
      "5.1 ~ 6.15\n",
      "Building a blog\n",
      "Basic\n",
      "\n",
      "\n",
      "6.16 ~ 7.31\n",
      "Python and Data Science\n",
      "Easy\n",
      "\n"
     ]
    }
   ],
   "source": [
    "soup = BeautifulSoup(html, 'html.parser')\n",
    "items = soup.find_all('tr')\n",
    "for item in items:\n",
    "    print(item.get_text())"
   ]
  },
  {
   "cell_type": "code",
   "execution_count": 32,
   "id": "e7531b62",
   "metadata": {},
   "outputs": [
    {
     "name": "stdout",
     "output_type": "stream",
     "text": [
      "Schedule | Curriculum | Difficulty | \n",
      "5.1 ~ 6.15 | Building a blog | Basic | \n",
      "6.16 ~ 7.31 | Python and Data Science | Easy | \n"
     ]
    }
   ],
   "source": [
    "# How to parse a table\n",
    "items = soup.select('tr')\n",
    "for item in items:\n",
    "    columns = item.select('td')\n",
    "    row_str = ''\n",
    "    for column in columns:\n",
    "        row_str += column.get_text()\n",
    "        row_str += ' | '\n",
    "    print(row_str)"
   ]
  }
 ],
 "metadata": {
  "kernelspec": {
   "display_name": "Python 3 (ipykernel)",
   "language": "python",
   "name": "python3"
  },
  "language_info": {
   "codemirror_mode": {
    "name": "ipython",
    "version": 3
   },
   "file_extension": ".py",
   "mimetype": "text/x-python",
   "name": "python",
   "nbconvert_exporter": "python",
   "pygments_lexer": "ipython3",
   "version": "3.9.13"
  }
 },
 "nbformat": 4,
 "nbformat_minor": 5
}
