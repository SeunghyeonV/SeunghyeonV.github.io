{
 "cells": [
  {
   "cell_type": "code",
   "execution_count": 2,
   "id": "1d309e9a",
   "metadata": {},
   "outputs": [],
   "source": [
    "import json"
   ]
  },
  {
   "cell_type": "code",
   "execution_count": 12,
   "id": "db5d0a35",
   "metadata": {},
   "outputs": [],
   "source": [
    "# JSON data\n",
    "data = \"\"\"\n",
    "{\"widget\": {\n",
    "    \"debug\": \"on\",\n",
    "    \"window\": {\n",
    "        \"title\": \"Sample Konfabulator Widget\",\n",
    "        \"name\": \"main_window\",\n",
    "        \"width\": 500,\n",
    "        \"height\": 500\n",
    "    },\n",
    "    \"image\": { \n",
    "        \"src\": \"Images/Sun.png\",\n",
    "        \"name\": \"sun1\",\n",
    "        \"hOffset\": 250,\n",
    "        \"vOffset\": 250,\n",
    "        \"alignment\": \"center\"\n",
    "    },\n",
    "    \"text\": {\n",
    "        \"data\": \"Click Here\",\n",
    "        \"size\": 36,\n",
    "        \"style\": \"bold\",\n",
    "        \"name\": \"text1\",\n",
    "        \"hOffset\": 250,\n",
    "        \"vOffset\": 100,\n",
    "        \"alignment\": \"center\",\n",
    "        \"onMouseUp\": \"sun1.opacity = (sun1.opacity / 100) * 90;\"\n",
    "    }\n",
    "}}  \n",
    "\"\"\"  "
   ]
  },
  {
   "cell_type": "code",
   "execution_count": 13,
   "id": "ba791a8c",
   "metadata": {},
   "outputs": [],
   "source": [
    "# load data\n",
    "json_data = json.loads(data)"
   ]
  },
  {
   "cell_type": "code",
   "execution_count": 14,
   "id": "49260dc3",
   "metadata": {},
   "outputs": [
    {
     "name": "stdout",
     "output_type": "stream",
     "text": [
      "\n",
      "\"title\": \"Sample Konfabulator Widget\",\n",
      "\"name\": \"main_window\",\n",
      "\"width\": 500,\n",
      "\"height\": 500\n",
      "\n"
     ]
    }
   ],
   "source": [
    "print(json.dumps(json_data['widget']['window'], indent=0).strip(\"{}\"))"
   ]
  },
  {
   "cell_type": "code",
   "execution_count": 15,
   "id": "c800cb72",
   "metadata": {},
   "outputs": [
    {
     "name": "stdout",
     "output_type": "stream",
     "text": [
      "Images/Sun.png"
     ]
    }
   ],
   "source": [
    "for i in json_data['widget']['image']['src']:\n",
    "    print(i, end=\"\")"
   ]
  },
  {
   "cell_type": "code",
   "execution_count": 16,
   "id": "91094ffc",
   "metadata": {},
   "outputs": [],
   "source": [
    "# XML data\n",
    "import xml.etree.ElementTree as ET\n",
    "\n",
    "xmldata = \"\"\"\n",
    "<?xml version=\"1.0\" encoding=\"UTF-8\" ?>\n",
    "<widget>\n",
    "  <debug>on</debug>\n",
    "  <window>\n",
    "    <title>Sample Konfabulator Widget</title>\n",
    "    <name>main_window</name>\n",
    "    <width>500</width>\n",
    "    <height>500</height>\n",
    "  </window>\n",
    "  <image>\n",
    "    <src>Images/Sun.png</src>\n",
    "    <name>sun1</name>\n",
    "    <hOffset>250</hOffset>\n",
    "    <vOffset>250</vOffset>\n",
    "    <alignment>center</alignment>\n",
    "  </image>\n",
    "  <text>\n",
    "    <data>Click Here</data>\n",
    "    <size>36</size>\n",
    "    <style>bold</style>\n",
    "    <name>text1</name>\n",
    "    <hOffset>250</hOffset>\n",
    "    <vOffset>100</vOffset>\n",
    "    <alignment>center</alignment>\n",
    "    <onMouseUp>sun1.opacity = (sun1.opacity / 100) * 90;</onMouseUp>\n",
    "  </text>\n",
    "</widget>\n",
    "\"\"\""
   ]
  },
  {
   "cell_type": "code",
   "execution_count": 17,
   "id": "034f0e72",
   "metadata": {},
   "outputs": [],
   "source": [
    "myroot = ET.fromstring(xmldata.strip())"
   ]
  },
  {
   "cell_type": "code",
   "execution_count": 18,
   "id": "92b932cb",
   "metadata": {},
   "outputs": [
    {
     "name": "stdout",
     "output_type": "stream",
     "text": [
      "widget\n"
     ]
    }
   ],
   "source": [
    "print(myroot.tag)"
   ]
  },
  {
   "cell_type": "code",
   "execution_count": 19,
   "id": "896800a1",
   "metadata": {},
   "outputs": [
    {
     "name": "stdout",
     "output_type": "stream",
     "text": [
      "debug\n",
      "window\n",
      "image\n",
      "text\n"
     ]
    }
   ],
   "source": [
    "print(myroot[0].tag)\n",
    "print(myroot[1].tag)\n",
    "print(myroot[2].tag)\n",
    "print(myroot[3].tag)"
   ]
  },
  {
   "cell_type": "code",
   "execution_count": 20,
   "id": "2b6123b6",
   "metadata": {},
   "outputs": [
    {
     "name": "stdout",
     "output_type": "stream",
     "text": [
      "Sample Konfabulator Widget main_window 500  |  height\n"
     ]
    }
   ],
   "source": [
    "for x in myroot.findall('window'):\n",
    "    title = x.find('title').text\n",
    "    name = x.find('name').text\n",
    "    width = x.find('width').text\n",
    "    height = x.find('height').text\n",
    "    print(title,name, width, ' | ', 'height')\n"
   ]
  }
 ],
 "metadata": {
  "kernelspec": {
   "display_name": "Python 3 (ipykernel)",
   "language": "python",
   "name": "python3"
  },
  "language_info": {
   "codemirror_mode": {
    "name": "ipython",
    "version": 3
   },
   "file_extension": ".py",
   "mimetype": "text/x-python",
   "name": "python",
   "nbconvert_exporter": "python",
   "pygments_lexer": "ipython3",
   "version": "3.9.13"
  }
 },
 "nbformat": 4,
 "nbformat_minor": 5
}
